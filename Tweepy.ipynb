{
  "nbformat": 4,
  "nbformat_minor": 0,
  "metadata": {
    "colab": {
      "provenance": [],
      "collapsed_sections": [],
      "authorship_tag": "ABX9TyO3LQpzkNvAtsupKOqFbeJK"
    },
    "kernelspec": {
      "name": "python3",
      "display_name": "Python 3"
    },
    "language_info": {
      "name": "python"
    }
  },
  "cells": [
    {
      "cell_type": "markdown",
      "source": [
        "# Biblioteca Tweepy"
      ],
      "metadata": {
        "id": "_Mb_jEFbOvxD"
      }
    },
    {
      "cell_type": "code",
      "source": [
        "import tweepy\n",
        "\n",
        "#passa as credenciais para o tweepy fazer a autenticação\n",
        "auth = tweepy.OAuthHandler(consumer_key='xxx' , consumer_secret= 'xxx')\n",
        "\n",
        "#com o resultado da autenticação, inicia a API\n",
        "api = tweepy.API(auth)\n",
        "\n",
        "#executa uma busca, pela API de search\n",
        "tweets = api.search_tweets(q='palavra_de_busca')\n",
        "\n",
        "#imprime o resultado\n",
        "for tweet in tweets\n",
        "  print(''.join(tweet._json['text'].splitlines(False)),end = '\\n\\n')\n",
        "  #imprime o tweet removendo quebras de linha se houver"
      ],
      "metadata": {
        "id": "WWwRDJUEO6BU"
      },
      "execution_count": 2,
      "outputs": []
    }
  ]
}
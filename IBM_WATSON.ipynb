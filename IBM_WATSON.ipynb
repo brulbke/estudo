{
  "nbformat": 4,
  "nbformat_minor": 0,
  "metadata": {
    "colab": {
      "provenance": [],
      "collapsed_sections": [],
      "authorship_tag": "ABX9TyOIlKMMgPOdQzng+Gif3i6/"
    },
    "kernelspec": {
      "name": "python3",
      "display_name": "Python 3"
    },
    "language_info": {
      "name": "python"
    }
  },
  "cells": [
    {
      "cell_type": "markdown",
      "source": [
        "# IBM WATSON"
      ],
      "metadata": {
        "id": "XPaf67Raj3fU"
      }
    },
    {
      "cell_type": "code",
      "execution_count": 7,
      "metadata": {
        "colab": {
          "base_uri": "https://localhost:8080/"
        },
        "id": "PdaIKTzmj0Ff",
        "outputId": "d63bf731-5100-47c0-d064-feb329b6a32c"
      },
      "outputs": [
        {
          "output_type": "stream",
          "name": "stdout",
          "text": [
            "Looking in indexes: https://pypi.org/simple, https://us-python.pkg.dev/colab-wheels/public/simple/\n",
            "Requirement already satisfied: ibm_watson in /usr/local/lib/python3.7/dist-packages (6.1.0)\n",
            "Requirement already satisfied: ibm-cloud-sdk-core==3.*,>=3.3.6 in /usr/local/lib/python3.7/dist-packages (from ibm_watson) (3.16.0)\n",
            "Requirement already satisfied: python-dateutil>=2.5.3 in /usr/local/lib/python3.7/dist-packages (from ibm_watson) (2.8.2)\n",
            "Requirement already satisfied: websocket-client==1.1.0 in /usr/local/lib/python3.7/dist-packages (from ibm_watson) (1.1.0)\n",
            "Requirement already satisfied: requests<3.0,>=2.0 in /usr/local/lib/python3.7/dist-packages (from ibm_watson) (2.28.1)\n",
            "Requirement already satisfied: urllib3<2.0.0,>=1.26.0 in /usr/local/lib/python3.7/dist-packages (from ibm-cloud-sdk-core==3.*,>=3.3.6->ibm_watson) (1.26.12)\n",
            "Requirement already satisfied: PyJWT<3.0.0,>=2.4.0 in /usr/local/lib/python3.7/dist-packages (from ibm-cloud-sdk-core==3.*,>=3.3.6->ibm_watson) (2.5.0)\n",
            "Requirement already satisfied: six>=1.5 in /usr/local/lib/python3.7/dist-packages (from python-dateutil>=2.5.3->ibm_watson) (1.15.0)\n",
            "Requirement already satisfied: certifi>=2017.4.17 in /usr/local/lib/python3.7/dist-packages (from requests<3.0,>=2.0->ibm_watson) (2022.6.15)\n",
            "Requirement already satisfied: charset-normalizer<3,>=2 in /usr/local/lib/python3.7/dist-packages (from requests<3.0,>=2.0->ibm_watson) (2.1.1)\n",
            "Requirement already satisfied: idna<4,>=2.5 in /usr/local/lib/python3.7/dist-packages (from requests<3.0,>=2.0->ibm_watson) (2.10)\n"
          ]
        }
      ],
      "source": [
        "!pip install ibm_watson\n",
        "\n",
        "import ibm_cloud_sdk_core\n",
        "import ibm_watson\n",
        "import os"
      ]
    },
    {
      "cell_type": "code",
      "source": [
        "#puxa as credenciais de váriaveis de ambiente (nunca salve as credências em seu código)\n",
        "NATURAL_LANGUAGE_UNDERSTENDING_APIKEY = os.environ['IBM_APIKEY']\n",
        "NATURAL_LANGUAGE_UNDERSTENDING_URL = os.environ['NLU_URL']\n",
        "\n",
        "#chama o serviço ibm watson\n",
        "response = natural_language_understending.analyze(language = 'pt',\n",
        "                                                  text = 'texto que deseja verificar',\n",
        "                                                  features = Features(sentiment=SentimentOptions())).get_result()\n",
        "\n",
        "#imprime o resultado\n",
        "print(json.dumps(response, indent=2))                                                  "
      ],
      "metadata": {
        "id": "AEqTomsVt6af"
      },
      "execution_count": null,
      "outputs": []
    }
  ]
}